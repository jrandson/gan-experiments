{
 "cells": [
  {
   "cell_type": "code",
   "execution_count": 1,
   "metadata": {},
   "outputs": [],
   "source": [
    "import torch\n",
    "import torchvision\n",
    "from torch import nn\n",
    "from torch.nn import functional as F\n",
    "import torch.optim as optim\n",
    "from IPython import display"
   ]
  },
  {
   "cell_type": "code",
   "execution_count": 2,
   "metadata": {
    "scrolled": false
   },
   "outputs": [],
   "source": [
    "batch_size_train = 64\n",
    "batch_size_test = 64\n",
    "\n",
    "# prepair the dataset\n",
    "train_loader = torch.utils.data.DataLoader(\n",
    "  torchvision.datasets.MNIST('dataset/', train=True, download=True,\n",
    "                             transform=torchvision.transforms.Compose([\n",
    "                               torchvision.transforms.ToTensor(),\n",
    "                               torchvision.transforms.Normalize(\n",
    "                                 (0.1307,), (0.3081,))\n",
    "                             ])),\n",
    "  batch_size=batch_size_train, shuffle=True)\n",
    "\n",
    "test_loader = torch.utils.data.DataLoader(\n",
    "  torchvision.datasets.MNIST('dataset/', train=False, download=True,\n",
    "                             transform=torchvision.transforms.Compose([\n",
    "                               torchvision.transforms.ToTensor(),\n",
    "                               torchvision.transforms.Normalize(\n",
    "                                 (0.1307,), (0.3081,))\n",
    "                             ])),\n",
    "  batch_size=batch_size_test, shuffle=True)"
   ]
  },
  {
   "cell_type": "code",
   "execution_count": 3,
   "metadata": {},
   "outputs": [],
   "source": [
    "class Generator(nn.Module):\n",
    "    def __init__(self, output_size):\n",
    "        super(Generator, self).__init__()\n",
    "        \n",
    "        self.output_size = output_size        \n",
    "        self.fc1 = nn.Linear(128,512)        \n",
    "        self.fc2 = nn.Linear(512,64)        \n",
    "        self.fc3 = nn.Linear(64, output_size * output_size)\n",
    "        \n",
    "    \n",
    "    def forward(self, x):\n",
    "        \n",
    "        x = torch.relu(self.fc1(x))        \n",
    "        x = torch.relu(self.fc2(x))        \n",
    "        x = torch.tanh(self.fc3(x))  \n",
    "        x = x.reshape(-1, 1, self.output_size, self.output_size)\n",
    "        return x\n",
    "        "
   ]
  },
  {
   "cell_type": "code",
   "execution_count": 4,
   "metadata": {},
   "outputs": [],
   "source": [
    "class Discriminator(nn.Module):\n",
    "    def __init__(self, input_size):        \n",
    "        super(Discriminator, self).__init__()\n",
    "        \n",
    "        self.input_size = input_size\n",
    "        \n",
    "        x_in = input_size * input_size\n",
    "        self.fc1 = nn.Linear(x_in, 512)        \n",
    "        self.fc2 = nn.Linear(512, self.input_size**2)        \n",
    "        self.fc3 = nn.Linear(self.input_size**2, 1)\n",
    "    \n",
    "    def forward(self, x):\n",
    "        '''\n",
    "            receives an images n x n\n",
    "        '''\n",
    "        x = x.view(-1, 1, self.input_size**2)\n",
    "        x = torch.relu(self.fc1(x))        \n",
    "        x = torch.relu(self.fc2(x))        \n",
    "        x = torch.tanh(self.fc3(x))\n",
    "        x = torch.squeeze(x,2)\n",
    "        \n",
    "        return x"
   ]
  },
  {
   "cell_type": "code",
   "execution_count": 5,
   "metadata": {},
   "outputs": [],
   "source": [
    "size_image = 28\n",
    "img = torch.rand(size_image, size_image)"
   ]
  },
  {
   "cell_type": "code",
   "execution_count": 6,
   "metadata": {},
   "outputs": [],
   "source": [
    "import matplotlib.pyplot as plt"
   ]
  },
  {
   "cell_type": "code",
   "execution_count": 7,
   "metadata": {},
   "outputs": [
    {
     "data": {
      "text/plain": [
       "<matplotlib.image.AxesImage at 0x7f7e777c7898>"
      ]
     },
     "execution_count": 7,
     "metadata": {},
     "output_type": "execute_result"
    },
    {
     "data": {
      "image/png": "[encoded data removed]",
      "text/plain": [
       "<Figure size 432x288 with 1 Axes>"
      ]
     },
     "metadata": {
      "needs_background": "light"
     },
     "output_type": "display_data"
    }
   ],
   "source": [
    "plt.imshow(img.data.numpy(), cmap='gray')"
   ]
  },
  {
   "cell_type": "code",
   "execution_count": 8,
   "metadata": {},
   "outputs": [],
   "source": [
    "disc = Discriminator(size_image)\n",
    "gen = Generator(size_image)"
   ]
  },
  {
   "cell_type": "code",
   "execution_count": 9,
   "metadata": {},
   "outputs": [
    {
     "name": "stdout",
     "output_type": "stream",
     "text": [
      "torch.Size([1, 1, 28, 28])\n"
     ]
    }
   ],
   "source": [
    "noise = torch.rand(128)\n",
    "gen_image = gen(noise)\n",
    "print(gen_image.shape)"
   ]
  },
  {
   "cell_type": "code",
   "execution_count": 10,
   "metadata": {},
   "outputs": [
    {
     "data": {
      "text/plain": [
       "<matplotlib.image.AxesImage at 0x7f7e7729d358>"
      ]
     },
     "execution_count": 10,
     "metadata": {},
     "output_type": "execute_result"
    },
    {
     "data": {
      "image/png": "[encoded data removed]",
      "text/plain": [
       "<Figure size 432x288 with 1 Axes>"
      ]
     },
     "metadata": {
      "needs_background": "light"
     },
     "output_type": "display_data"
    }
   ],
   "source": [
    "plt.imshow(gen_image.data.numpy().reshape(size_image,size_image), cmap='gray')"
   ]
  },
  {
   "cell_type": "code",
   "execution_count": 11,
   "metadata": {},
   "outputs": [
    {
     "name": "stdout",
     "output_type": "stream",
     "text": [
      "tensor([[-0.0024]], grad_fn=<SqueezeBackward1>)\n"
     ]
    }
   ],
   "source": [
    "pred = disc(gen_image)\n",
    "print(pred)"
   ]
  },
  {
   "cell_type": "code",
   "execution_count": 12,
   "metadata": {},
   "outputs": [],
   "source": [
    "def discriminator_loss(real_output, fake_output):\n",
    "    # real_loss = F.cross_entropy(torch.ones_like(real_output), real_output)\n",
    "    # fake_loss = F.cross_entropy(torch.zeros_like(fake_output), fake_output)\n",
    "    \n",
    "    real_loss = F.mse_loss(torch.ones_like(real_output), real_output)\n",
    "    fake_loss = F.mse_loss(torch.zeros_like(fake_output), fake_output)\n",
    "    \n",
    "    total_loss = real_loss + fake_loss\n",
    "    \n",
    "    return total_loss\n",
    "\n",
    "def generator_loss(fake_output):\n",
    "    # loss = F.cross_entropy(torch.ones_like(fake_output, requires_grad=False), fake_output)\n",
    "    loss = F.mse_loss(torch.ones_like(fake_output), fake_output)\n",
    "    \n",
    "    return loss"
   ]
  },
  {
   "cell_type": "code",
   "execution_count": 13,
   "metadata": {},
   "outputs": [],
   "source": [
    "generator_optimizer = optim.Adam(gen.parameters(), lr=0.01, weight_decay=0.01)\n",
    "discriminator_optimizer = optim.Adam(disc.parameters(), lr=0.01, weight_decay=0.01)"
   ]
  },
  {
   "cell_type": "code",
   "execution_count": 14,
   "metadata": {},
   "outputs": [],
   "source": [
    "NUM_EPOCHS = 3000\n",
    "BATCH_SIZE = 32\n",
    "noise_dim = 128\n",
    "num_examples_gen = 32\n",
    "torch.seed = 129"
   ]
  },
  {
   "cell_type": "code",
   "execution_count": null,
   "metadata": {},
   "outputs": [
    {
     "name": "stdout",
     "output_type": "stream",
     "text": [
      " 237 from 3000 epochs"
     ]
    }
   ],
   "source": [
    "for epoch_i in range(NUM_EPOCHS):\n",
    "    for i, (image_batch, image_targets) in enumerate(train_loader):         \n",
    "\n",
    "        batch_size = image_batch.shape[0]\n",
    "\n",
    "        noise = torch.randn(BATCH_SIZE, noise_dim)\n",
    "        gen_images = gen(noise)\n",
    "\n",
    "        real_images = disc(image_batch)\n",
    "        fake_images = disc(gen_images)\n",
    "\n",
    "        gen_loss = generator_loss(fake_images)\n",
    "        disc_loss = discriminator_loss(fake_images, real_images)\n",
    "\n",
    "        generator_optimizer.zero_grad()\n",
    "        discriminator_optimizer.zero_grad()\n",
    "\n",
    "        gen_loss.backward(retain_graph=True)\n",
    "        disc_loss.backward(retain_graph=True)    \n",
    "\n",
    "        generator_optimizer.step()    \n",
    "        discriminator_optimizer.step()    \n",
    "\n",
    "        noise = torch.randn(9, noise_dim)\n",
    "        genenerated_images = gen(noise)\n",
    "    \n",
    "    print(\"\\r {} from {} epochs\".format(epoch_i, NUM_EPOCHS), end=\"\", flush=True)\n",
    "\n",
    "        #display_images(genenerated_images.detach().numpy())            \n"
   ]
  },
  {
   "cell_type": "code",
   "execution_count": 22,
   "metadata": {},
   "outputs": [
    {
     "data": {
      "image/png": "[encoded data removed]",
      "text/plain": [
       "<Figure size 432x288 with 9 Axes>"
      ]
     },
     "metadata": {},
     "output_type": "display_data"
    }
   ],
   "source": [
    "display_images(genenerated_images.detach().numpy())"
   ]
  },
  {
   "cell_type": "code",
   "execution_count": 17,
   "metadata": {},
   "outputs": [],
   "source": [
    "import time\n",
    "def display_images(images):\n",
    "    fig = plt.figure()\n",
    "    for i in range(9):\n",
    "        plt.subplot(3,3,i+1)\n",
    "        plt.tight_layout()\n",
    "        plt.imshow(images[i][0], cmap='gray', interpolation='none')\n",
    "        # plt.title(\"Ground Truth: {}\".format(example_targets[i]))\n",
    "        plt.xticks([])\n",
    "        plt.yticks([])\n",
    "    fig"
   ]
  },
  {
   "cell_type": "code",
   "execution_count": null,
   "metadata": {},
   "outputs": [],
   "source": []
  }
 ],
 "metadata": {
  "kernelspec": {
   "display_name": "drlnd-env",
   "language": "python",
   "name": "drlnd"
  },
  "language_info": {
   "codemirror_mode": {
    "name": "ipython",
    "version": 3
   },
   "file_extension": ".py",
   "mimetype": "text/x-python",
   "name": "python",
   "nbconvert_exporter": "python",
   "pygments_lexer": "ipython3",
   "version": "3.6.8"
  }
 },
 "nbformat": 4,
 "nbformat_minor": 2
}
